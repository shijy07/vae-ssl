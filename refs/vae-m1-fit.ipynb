{
 "cells": [
  {
   "cell_type": "code",
   "execution_count": 1,
   "metadata": {
    "collapsed": false
   },
   "outputs": [
    {
     "name": "stderr",
     "output_type": "stream",
     "text": [
      "Using TensorFlow backend.\n"
     ]
    }
   ],
   "source": [
    "%matplotlib inline\n",
    "import numpy as np\n",
    "import time\n",
    "import h5py\n",
    "import keras\n",
    "import pandas as pd\n",
    "import math\n",
    "import joblib\n",
    "import matplotlib.pyplot as plt\n",
    "\n",
    "from fuel.datasets.hdf5 import H5PYDataset\n",
    "\n",
    "from sklearn.decomposition import PCA\n",
    "from sklearn.svm import SVC\n",
    "from sklearn.metrics import accuracy_score\n",
    "from sklearn.model_selection import StratifiedShuffleSplit\n",
    "from IPython.display import display\n",
    "\n",
    "from keras.layers import Input, Dense, Lambda, Flatten, Reshape, BatchNormalization, Activation, Dropout, Conv2D, Conv2DTranspose\n",
    "from keras.regularizers import l2\n",
    "from keras.initializers import RandomUniform\n",
    "from keras.optimizers import RMSprop, Adam, SGD\n",
    "from keras.models import Model\n",
    "from keras import metrics\n",
    "from keras import backend as K\n",
    "from keras_tqdm import TQDMNotebookCallback"
   ]
  },
  {
   "cell_type": "markdown",
   "metadata": {},
   "source": [
    "# Load CIFAR10 dataset"
   ]
  },
  {
   "cell_type": "code",
   "execution_count": 2,
   "metadata": {
    "collapsed": false
   },
   "outputs": [
    {
     "name": "stdout",
     "output_type": "stream",
     "text": [
      "(50000, 32, 32, 3) (50000, 1)\n",
      "(10000, 32, 32, 3) (10000, 1)\n"
     ]
    }
   ],
   "source": [
    "ftrain = H5PYDataset(\"../../data/cifar10/cifar10.hdf5\", which_sets=('train',))\n",
    "X_train, y_train = ftrain.get_data(ftrain.open(), slice(0, ftrain.num_examples))\n",
    "X_train = np.moveaxis(X_train[:], 1, 3)\n",
    "X_train = X_train / 255.\n",
    "\n",
    "ftest = H5PYDataset(\"../../data/cifar10/cifar10.hdf5\", which_sets=('test',))\n",
    "X_test, y_test = ftest.get_data(ftest.open(), slice(0, ftest.num_examples))\n",
    "X_test = np.moveaxis(X_test[:], 1, 3)\n",
    "X_test = X_test / 255.\n",
    "\n",
    "print(X_train.shape, y_train.shape)\n",
    "print(X_test.shape, y_test.shape)"
   ]
  },
  {
   "cell_type": "markdown",
   "metadata": {},
   "source": [
    "# Variational Autoencoder Parameters"
   ]
  },
  {
   "cell_type": "code",
   "execution_count": 3,
   "metadata": {
    "collapsed": false
   },
   "outputs": [],
   "source": [
    "img_rows, img_cols, img_chns = 32, 32, 3\n",
    "\n",
    "if K.image_data_format() == 'channels_first':\n",
    "    original_img_size = (img_chns, img_rows, img_cols)\n",
    "else:\n",
    "    original_img_size = (img_rows, img_cols, img_chns)\n",
    "\n",
    "batch_size = 250\n",
    "latent_dim = 512\n",
    "intermediate_dim = 2048\n",
    "epsilon_std = 1.0\n",
    "epochs = 1000\n",
    "activation = 'relu'\n",
    "dropout = 0.2\n",
    "learning_rate = 0.0001\n",
    "decay = 0.0"
   ]
  },
  {
   "cell_type": "markdown",
   "metadata": {},
   "source": [
    "# Encoder Network"
   ]
  },
  {
   "cell_type": "code",
   "execution_count": 4,
   "metadata": {
    "collapsed": true
   },
   "outputs": [],
   "source": [
    "def create_enc_conv_layers(stage, **kwargs):\n",
    "    conv_name = '_'.join(['enc_conv', str(stage)])\n",
    "    bn_name = '_'.join(['enc_bn', str(stage)])\n",
    "    layers = [\n",
    "        Conv2D(name=conv_name, **kwargs),\n",
    "        BatchNormalization(name=bn_name),\n",
    "        Activation(activation),\n",
    "    ]\n",
    "    return layers\n",
    "\n",
    "def create_dense_layers(stage, width):\n",
    "    dense_name = '_'.join(['enc_conv', str(stage)])\n",
    "    bn_name = '_'.join(['enc_bn', str(stage)])\n",
    "    layers = [\n",
    "        Dense(width, name=dense_name),\n",
    "        BatchNormalization(name=bn_name),\n",
    "        Activation(activation),\n",
    "        Dropout(dropout),\n",
    "    ]\n",
    "    return layers\n",
    "\n",
    "def inst_layers(layers, in_layer):\n",
    "    x = in_layer\n",
    "    for layer in layers:\n",
    "        if isinstance(layer, list):\n",
    "            x = inst_layers(layer, x)\n",
    "        else:\n",
    "            x = layer(x)\n",
    "        \n",
    "    return x"
   ]
  },
  {
   "cell_type": "code",
   "execution_count": 5,
   "metadata": {
    "collapsed": true
   },
   "outputs": [],
   "source": [
    "enc_filters=128\n",
    "enc_layers = [\n",
    "    create_enc_conv_layers(stage=1, filters=enc_filters, kernel_size=3, strides=1, padding='same'),\n",
    "    create_enc_conv_layers(stage=2, filters=enc_filters // 2, kernel_size=3, strides=2, padding='same'),\n",
    "    create_enc_conv_layers(stage=3, filters=enc_filters // 4, kernel_size=3, strides=2, padding='same'),\n",
    "    Flatten(),\n",
    "    create_dense_layers(stage=4, width=intermediate_dim),\n",
    "]"
   ]
  },
  {
   "cell_type": "code",
   "execution_count": 6,
   "metadata": {
    "collapsed": false
   },
   "outputs": [],
   "source": [
    "x = Input(batch_shape=(batch_size,) + original_img_size)\n",
    "_enc_dense = inst_layers(enc_layers, x)\n",
    "\n",
    "_z_mean_1 = Dense(latent_dim)(_enc_dense)\n",
    "_z_log_var_1 = Dense(latent_dim)(_enc_dense)\n",
    "\n",
    "z_mean = _z_mean_1\n",
    "z_log_var = _z_log_var_1"
   ]
  },
  {
   "cell_type": "markdown",
   "metadata": {},
   "source": [
    "# Reparameterization Trick"
   ]
  },
  {
   "cell_type": "code",
   "execution_count": 7,
   "metadata": {
    "collapsed": false
   },
   "outputs": [],
   "source": [
    "def sampling(args, batch_size=batch_size, latent_dim=latent_dim, epsilon_std=epsilon_std):\n",
    "    z_mean, z_log_var = args\n",
    "    \n",
    "    epsilon = K.random_normal(shape=(batch_size, latent_dim),\n",
    "                              mean=0., stddev=epsilon_std)\n",
    "    \n",
    "    return z_mean + K.exp(z_log_var) * epsilon\n",
    "\n",
    "z = Lambda(sampling, output_shape=(latent_dim,))([z_mean, z_log_var])"
   ]
  },
  {
   "cell_type": "markdown",
   "metadata": {},
   "source": [
    "# Decoder Network"
   ]
  },
  {
   "cell_type": "code",
   "execution_count": 8,
   "metadata": {
    "collapsed": false
   },
   "outputs": [],
   "source": [
    "def create_dec_trans_conv_layers(stage, **kwargs):\n",
    "    conv_name = '_'.join(['dec_trans_conv', str(stage)])\n",
    "    bn_name = '_'.join(['dec_bn', str(stage)])\n",
    "    layers = [\n",
    "        Conv2DTranspose(name=conv_name, **kwargs),\n",
    "        BatchNormalization(name=bn_name),\n",
    "        Activation(activation),\n",
    "    ]\n",
    "    return layers"
   ]
  },
  {
   "cell_type": "code",
   "execution_count": 9,
   "metadata": {
    "collapsed": false
   },
   "outputs": [],
   "source": [
    "dec_filters = 128\n",
    "decoder_layers = [\n",
    "    create_dense_layers(stage=10, width=intermediate_dim),\n",
    "    Reshape((8, 8, intermediate_dim // 64)),\n",
    "    create_dec_trans_conv_layers(11, filters=dec_filters, kernel_size=3, strides=1, padding='same'),\n",
    "    create_dec_trans_conv_layers(12, filters=dec_filters // 2, kernel_size=3, strides=2, padding='same'),\n",
    "    create_dec_trans_conv_layers(13, filters=dec_filters // 4, kernel_size=3, strides=2, padding='same'),\n",
    "    Conv2DTranspose(name='x_decoded', filters=3, kernel_size=1, strides=1, activation='sigmoid'),\n",
    "]"
   ]
  },
  {
   "cell_type": "code",
   "execution_count": 10,
   "metadata": {
    "collapsed": false
   },
   "outputs": [],
   "source": [
    "_dec_out = inst_layers(decoder_layers, z)\n",
    "_output = _dec_out"
   ]
  },
  {
   "cell_type": "markdown",
   "metadata": {},
   "source": [
    "# Loss Function"
   ]
  },
  {
   "cell_type": "code",
   "execution_count": 11,
   "metadata": {
    "collapsed": false,
    "scrolled": true
   },
   "outputs": [],
   "source": [
    "def kl_loss(x, x_decoded_mean):\n",
    "    kl_loss = - 0.5 * K.sum(1. + z_log_var - K.square(z_mean) - K.exp(z_log_var), axis=-1)\n",
    "   \n",
    "    return K.mean(kl_loss)\n",
    "\n",
    "def logx_loss(x, x_decoded_mean):\n",
    "    x = K.flatten(x)\n",
    "    x_decoded_mean = K.flatten(x_decoded_mean)\n",
    "    xent_loss = img_rows * img_cols * img_chns * metrics.binary_crossentropy(x, x_decoded_mean)\n",
    "    return xent_loss\n",
    "\n",
    "def vae_loss(x, x_decoded_mean):\n",
    "    return logx_loss(x, x_decoded_mean) + kl_loss(x, x_decoded_mean)"
   ]
  },
  {
   "cell_type": "markdown",
   "metadata": {},
   "source": [
    "# Compile Model"
   ]
  },
  {
   "cell_type": "code",
   "execution_count": 12,
   "metadata": {
    "collapsed": false,
    "scrolled": true
   },
   "outputs": [
    {
     "name": "stdout",
     "output_type": "stream",
     "text": [
      "____________________________________________________________________________________________________\n",
      "Layer (type)                     Output Shape          Param #     Connected to                     \n",
      "====================================================================================================\n",
      "input_1 (InputLayer)             (250, 32, 32, 3)      0                                            \n",
      "____________________________________________________________________________________________________\n",
      "enc_conv_1 (Conv2D)              (250, 32, 32, 128)    3584        input_1[0][0]                    \n",
      "____________________________________________________________________________________________________\n",
      "enc_bn_1 (BatchNormalization)    (250, 32, 32, 128)    512         enc_conv_1[0][0]                 \n",
      "____________________________________________________________________________________________________\n",
      "activation_1 (Activation)        (250, 32, 32, 128)    0           enc_bn_1[0][0]                   \n",
      "____________________________________________________________________________________________________\n",
      "enc_conv_2 (Conv2D)              (250, 16, 16, 64)     73792       activation_1[0][0]               \n",
      "____________________________________________________________________________________________________\n",
      "enc_bn_2 (BatchNormalization)    (250, 16, 16, 64)     256         enc_conv_2[0][0]                 \n",
      "____________________________________________________________________________________________________\n",
      "activation_2 (Activation)        (250, 16, 16, 64)     0           enc_bn_2[0][0]                   \n",
      "____________________________________________________________________________________________________\n",
      "enc_conv_3 (Conv2D)              (250, 8, 8, 32)       18464       activation_2[0][0]               \n",
      "____________________________________________________________________________________________________\n",
      "enc_bn_3 (BatchNormalization)    (250, 8, 8, 32)       128         enc_conv_3[0][0]                 \n",
      "____________________________________________________________________________________________________\n",
      "activation_3 (Activation)        (250, 8, 8, 32)       0           enc_bn_3[0][0]                   \n",
      "____________________________________________________________________________________________________\n",
      "flatten_1 (Flatten)              (250, 2048)           0           activation_3[0][0]               \n",
      "____________________________________________________________________________________________________\n",
      "enc_conv_4 (Dense)               (250, 2048)           4196352     flatten_1[0][0]                  \n",
      "____________________________________________________________________________________________________\n",
      "enc_bn_4 (BatchNormalization)    (250, 2048)           8192        enc_conv_4[0][0]                 \n",
      "____________________________________________________________________________________________________\n",
      "activation_4 (Activation)        (250, 2048)           0           enc_bn_4[0][0]                   \n",
      "____________________________________________________________________________________________________\n",
      "dropout_1 (Dropout)              (250, 2048)           0           activation_4[0][0]               \n",
      "____________________________________________________________________________________________________\n",
      "dense_1 (Dense)                  (250, 512)            1049088     dropout_1[0][0]                  \n",
      "____________________________________________________________________________________________________\n",
      "dense_2 (Dense)                  (250, 512)            1049088     dropout_1[0][0]                  \n",
      "____________________________________________________________________________________________________\n",
      "lambda_1 (Lambda)                (250, 512)            0           dense_1[0][0]                    \n",
      "                                                                   dense_2[0][0]                    \n",
      "____________________________________________________________________________________________________\n",
      "enc_conv_10 (Dense)              (250, 2048)           1050624     lambda_1[0][0]                   \n",
      "____________________________________________________________________________________________________\n",
      "enc_bn_10 (BatchNormalization)   (250, 2048)           8192        enc_conv_10[0][0]                \n",
      "____________________________________________________________________________________________________\n",
      "activation_5 (Activation)        (250, 2048)           0           enc_bn_10[0][0]                  \n",
      "____________________________________________________________________________________________________\n",
      "dropout_2 (Dropout)              (250, 2048)           0           activation_5[0][0]               \n",
      "____________________________________________________________________________________________________\n",
      "reshape_1 (Reshape)              (250, 8, 8, 32)       0           dropout_2[0][0]                  \n",
      "____________________________________________________________________________________________________\n",
      "dec_trans_conv_11 (Conv2DTranspo (250, 8, 8, 128)      36992       reshape_1[0][0]                  \n",
      "____________________________________________________________________________________________________\n",
      "dec_bn_11 (BatchNormalization)   (250, 8, 8, 128)      512         dec_trans_conv_11[0][0]          \n",
      "____________________________________________________________________________________________________\n",
      "activation_6 (Activation)        (250, 8, 8, 128)      0           dec_bn_11[0][0]                  \n",
      "____________________________________________________________________________________________________\n",
      "dec_trans_conv_12 (Conv2DTranspo (250, 16, 16, 64)     73792       activation_6[0][0]               \n",
      "____________________________________________________________________________________________________\n",
      "dec_bn_12 (BatchNormalization)   (250, 16, 16, 64)     256         dec_trans_conv_12[0][0]          \n",
      "____________________________________________________________________________________________________\n",
      "activation_7 (Activation)        (250, 16, 16, 64)     0           dec_bn_12[0][0]                  \n",
      "____________________________________________________________________________________________________\n",
      "dec_trans_conv_13 (Conv2DTranspo (250, 32, 32, 32)     18464       activation_7[0][0]               \n",
      "____________________________________________________________________________________________________\n",
      "dec_bn_13 (BatchNormalization)   (250, 32, 32, 32)     128         dec_trans_conv_13[0][0]          \n",
      "____________________________________________________________________________________________________\n",
      "activation_8 (Activation)        (250, 32, 32, 32)     0           dec_bn_13[0][0]                  \n",
      "____________________________________________________________________________________________________\n",
      "x_decoded (Conv2DTranspose)      (250, 32, 32, 3)      99          activation_8[0][0]               \n",
      "====================================================================================================\n",
      "Total params: 7,588,515\n",
      "Trainable params: 7,579,427\n",
      "Non-trainable params: 9,088\n",
      "____________________________________________________________________________________________________\n"
     ]
    }
   ],
   "source": [
    "vae = Model(inputs=x, outputs=_output)\n",
    "optimizer = Adam(lr=learning_rate, decay=decay)\n",
    "vae.compile(optimizer=optimizer, loss=vae_loss)\n",
    "vae.summary()"
   ]
  },
  {
   "cell_type": "code",
   "execution_count": 13,
   "metadata": {
    "collapsed": false,
    "scrolled": true
   },
   "outputs": [
    {
     "name": "stdout",
     "output_type": "stream",
     "text": [
      "\n",
      "Elapsed:  12506.381352901459\n"
     ]
    }
   ],
   "source": [
    "start = time.time()\n",
    "\n",
    "early_stopping = keras.callbacks.EarlyStopping('loss', min_delta=1.0, patience=100)\n",
    "path = \"saved_models/vae-m1-checkpoint-{epoch:04d}-{loss:.2f}.hdf5\"\n",
    "checkpoint = keras.callbacks.ModelCheckpoint(path,  monitor='loss', save_best_only=True, period=50)\n",
    "reduce_lr = keras.callbacks.ReduceLROnPlateau(monitor='loss', factor=0.5, patience=50, min_lr=0.01 * learning_rate)\n",
    "\n",
    "history = vae.fit(\n",
    "    X_train, X_train,\n",
    "    batch_size=batch_size,\n",
    "    epochs=epochs,\n",
    "    callbacks=[TQDMNotebookCallback(), early_stopping, checkpoint, reduce_lr],\n",
    "    verbose=0\n",
    ")\n",
    "\n",
    "done = time.time()\n",
    "elapsed = done - start\n",
    "print(\"Elapsed: \", elapsed)"
   ]
  },
  {
   "cell_type": "code",
   "execution_count": 14,
   "metadata": {
    "collapsed": false
   },
   "outputs": [
    {
     "data": {
      "text/html": [
       "<div>\n",
       "<table border=\"1\" class=\"dataframe\">\n",
       "  <thead>\n",
       "    <tr style=\"text-align: right;\">\n",
       "      <th></th>\n",
       "      <th>loss</th>\n",
       "      <th>lr</th>\n",
       "    </tr>\n",
       "  </thead>\n",
       "  <tbody>\n",
       "    <tr>\n",
       "      <th>count</th>\n",
       "      <td>455.000000</td>\n",
       "      <td>455.0000</td>\n",
       "    </tr>\n",
       "    <tr>\n",
       "      <th>mean</th>\n",
       "      <td>1809.251283</td>\n",
       "      <td>0.0001</td>\n",
       "    </tr>\n",
       "    <tr>\n",
       "      <th>std</th>\n",
       "      <td>57.865693</td>\n",
       "      <td>0.0000</td>\n",
       "    </tr>\n",
       "    <tr>\n",
       "      <th>min</th>\n",
       "      <td>1795.552836</td>\n",
       "      <td>0.0001</td>\n",
       "    </tr>\n",
       "    <tr>\n",
       "      <th>0%</th>\n",
       "      <td>1795.552836</td>\n",
       "      <td>0.0001</td>\n",
       "    </tr>\n",
       "    <tr>\n",
       "      <th>25%</th>\n",
       "      <td>1796.656425</td>\n",
       "      <td>0.0001</td>\n",
       "    </tr>\n",
       "    <tr>\n",
       "      <th>50%</th>\n",
       "      <td>1798.296198</td>\n",
       "      <td>0.0001</td>\n",
       "    </tr>\n",
       "    <tr>\n",
       "      <th>75%</th>\n",
       "      <td>1803.228756</td>\n",
       "      <td>0.0001</td>\n",
       "    </tr>\n",
       "    <tr>\n",
       "      <th>95%</th>\n",
       "      <td>1848.834777</td>\n",
       "      <td>0.0001</td>\n",
       "    </tr>\n",
       "    <tr>\n",
       "      <th>99%</th>\n",
       "      <td>1976.083058</td>\n",
       "      <td>0.0001</td>\n",
       "    </tr>\n",
       "    <tr>\n",
       "      <th>max</th>\n",
       "      <td>2863.473353</td>\n",
       "      <td>0.0001</td>\n",
       "    </tr>\n",
       "  </tbody>\n",
       "</table>\n",
       "</div>"
      ],
      "text/plain": [
       "              loss        lr\n",
       "count   455.000000  455.0000\n",
       "mean   1809.251283    0.0001\n",
       "std      57.865693    0.0000\n",
       "min    1795.552836    0.0001\n",
       "0%     1795.552836    0.0001\n",
       "25%    1796.656425    0.0001\n",
       "50%    1798.296198    0.0001\n",
       "75%    1803.228756    0.0001\n",
       "95%    1848.834777    0.0001\n",
       "99%    1976.083058    0.0001\n",
       "max    2863.473353    0.0001"
      ]
     },
     "metadata": {},
     "output_type": "display_data"
    },
    {
     "data": {
      "text/plain": [
       "<matplotlib.axes._subplots.AxesSubplot at 0x7f9df1fadf60>"
      ]
     },
     "execution_count": 14,
     "metadata": {},
     "output_type": "execute_result"
    },
    {
     "data": {
      "image/png": "[encoded data removed]",
      "text/plain": [
       "<matplotlib.figure.Figure at 0x7f9df35f6748>"
      ]
     },
     "metadata": {},
     "output_type": "display_data"
    }
   ],
   "source": [
    "df = pd.DataFrame(history.history)\n",
    "display(df.describe(percentiles=[0.25 * i for i in range(4)] + [0.95, 0.99]))\n",
    "df.plot(figsize=(8, 6))"
   ]
  },
  {
   "cell_type": "markdown",
   "metadata": {},
   "source": [
    "# Encoder Network"
   ]
  },
  {
   "cell_type": "code",
   "execution_count": 15,
   "metadata": {
    "collapsed": true
   },
   "outputs": [],
   "source": [
    "encoder = Model(x, z_mean)"
   ]
  },
  {
   "cell_type": "markdown",
   "metadata": {},
   "source": [
    "# Generator Network"
   ]
  },
  {
   "cell_type": "code",
   "execution_count": 16,
   "metadata": {
    "collapsed": false,
    "scrolled": true
   },
   "outputs": [],
   "source": [
    "g_z = Input(shape=(latent_dim,))\n",
    "g_output = inst_layers(decoder_layers, g_z)\n",
    "generator = Model(g_z, g_output)"
   ]
  },
  {
   "cell_type": "code",
   "execution_count": 17,
   "metadata": {
    "collapsed": false
   },
   "outputs": [
    {
     "data": {
      "image/png": "[encoded data removed]",
      "text/plain": [
       "<matplotlib.figure.Figure at 0x7f9d58ae7320>"
      ]
     },
     "metadata": {},
     "output_type": "display_data"
    }
   ],
   "source": [
    "import matplotlib.pyplot as plt\n",
    "n = 10\n",
    "digit_size = 32\n",
    "figure = np.zeros((digit_size * n, digit_size * n, img_chns))\n",
    "\n",
    "for j in range(n):\n",
    "    for i in range(n):\n",
    "        z_sample = np.random.normal(size=latent_dim).reshape(1, latent_dim)\n",
    "        x_decoded = generator.predict(z_sample, batch_size=1)\n",
    "        digit = x_decoded.reshape(digit_size, digit_size, img_chns)\n",
    "        \n",
    "        d_x = i * digit_size\n",
    "        d_y = j * digit_size\n",
    "        figure[d_x:d_x + digit_size, d_y:d_y + digit_size] = digit\n",
    "\n",
    "plt.figure(figsize=(10, 10))\n",
    "plt.imshow(figure)\n",
    "plt.show()"
   ]
  },
  {
   "cell_type": "markdown",
   "metadata": {},
   "source": [
    "# Save Generator Model"
   ]
  },
  {
   "cell_type": "code",
   "execution_count": 18,
   "metadata": {
    "collapsed": false
   },
   "outputs": [],
   "source": [
    "encoder_path = \"saved_models/vae-m1-encoder.hdf5\"\n",
    "encoder.save(encoder_path)\n",
    "\n",
    "generator_path = \"saved_models/vae-m1-generator.hdf5\"\n",
    "generator.save(generator_path)"
   ]
  },
  {
   "cell_type": "code",
   "execution_count": 19,
   "metadata": {
    "collapsed": false
   },
   "outputs": [
    {
     "name": "stderr",
     "output_type": "stream",
     "text": [
      "/home/brian/anaconda3/lib/python3.6/site-packages/keras/models.py:258: UserWarning: No training configuration found in save file: the model was *not* compiled. Compile it manually.\n",
      "  warnings.warn('No training configuration found in save file: '\n"
     ]
    }
   ],
   "source": [
    "test_encoder = keras.models.load_model(encoder_path)\n",
    "test_generator = keras.models.load_model(generator_path)"
   ]
  },
  {
   "cell_type": "code",
   "execution_count": null,
   "metadata": {
    "collapsed": true
   },
   "outputs": [],
   "source": []
  }
 ],
 "metadata": {
  "kernelspec": {
   "display_name": "Python 3",
   "language": "python",
   "name": "python3"
  },
  "language_info": {
   "codemirror_mode": {
    "name": "ipython",
    "version": 3
   },
   "file_extension": ".py",
   "mimetype": "text/x-python",
   "name": "python",
   "nbconvert_exporter": "python",
   "pygments_lexer": "ipython3",
   "version": "3.6.0"
  },
  "widgets": {
   "state": {
    "0088faa93b464ffeb31f41c414e20b0b": {
     "views": [
      {
       "cell_index": 19
      }
     ]
    },
    "00b952cb2f4848b0b8fd9fa0097b04e9": {
     "views": [
      {
       "cell_index": 19
      }
     ]
    },
    "0218e6ae3c8646cc8c78409a196ee154": {
     "views": [
      {
       "cell_index": 19
      }
     ]
    },
    "02935c43377b4ccab99f779d2f1cd7ad": {
     "views": [
      {
       "cell_index": 19
      }
     ]
    },
    "036f36b806b8458098b2ba72f08047bb": {
     "views": [
      {
       "cell_index": 19
      }
     ]
    },
    "0400d98cccb94eb2b7593f9609fb4e09": {
     "views": [
      {
       "cell_index": 19
      }
     ]
    },
    "046b8caaee084ea1a2bbb6e856997390": {
     "views": [
      {
       "cell_index": 19
      }
     ]
    },
    "049474cd4c5b4fe08f1341f2acd158ee": {
     "views": [
      {
       "cell_index": 19
      }
     ]
    },
    "04b49a2c2a114fe58eb77f64ba01cc67": {
     "views": [
      {
       "cell_index": 19
      }
     ]
    },
    "04dbfaeb49d44189a8acac946f37f783": {
     "views": [
      {
       "cell_index": 19
      }
     ]
    },
    "05932337a857453898198e3590a4a3e2": {
     "views": [
      {
       "cell_index": 19
      }
     ]
    },
    "059d96b3f61140048309c66853f2da0b": {
     "views": [
      {
       "cell_index": 19
      }
     ]
    },
    "05c29458bea54621b0d3a2897c636625": {
     "views": [
      {
       "cell_index": 19
      }
     ]
    },
    "06bef462fb084c22b5a38c2f8eb568c0": {
     "views": [
      {
       "cell_index": 19
      }
     ]
    },
    "074f6ec7204540cfa7b5608a608bed1c": {
     "views": [
      {
       "cell_index": 19
      }
     ]
    },
    "078e56fa692540abbe0ab4d906e8f551": {
     "views": [
      {
       "cell_index": 19
      }
     ]
    },
    "0850f5ccef4d4acb894e68068688e110": {
     "views": [
      {
       "cell_index": 19
      }
     ]
    },
    "087b165ba4a140818e602a9cd90f9fe7": {
     "views": [
      {
       "cell_index": 19
      }
     ]
    },
    "08d1d1de0bac4f74932d20b97669a4c1": {
     "views": [
      {
       "cell_index": 19
      }
     ]
    },
    "09077efbcc6b4742b7d3c90aeecaa559": {
     "views": [
      {
       "cell_index": 19
      }
     ]
    },
    "0972ad208bee4b54a1041dfabc21a30a": {
     "views": [
      {
       "cell_index": 19
      }
     ]
    },
    "0a501746e0194be1b89bc96fe6dff50d": {
     "views": [
      {
       "cell_index": 19
      }
     ]
    },
    "0aa86f3e73df4ff48f9015ddeafffdc4": {
     "views": [
      {
       "cell_index": 19
      }
     ]
    },
    "0af841c592d34abdba62aae446d96e75": {
     "views": [
      {
       "cell_index": 19
      }
     ]
    },
    "0b281bd685e3486fbab8bd49370b3ddc": {
     "views": [
      {
       "cell_index": 19
      }
     ]
    },
    "0b8921e7a2dc4052aa12904f1b707bca": {
     "views": [
      {
       "cell_index": 19
      }
     ]
    },
    "0b8f57a3adf542df9b084fd16821abb8": {
     "views": [
      {
       "cell_index": 19
      }
     ]
    },
    "0bdaaeff25e54b54903b06d78cf886ab": {
     "views": [
      {
       "cell_index": 19
      }
     ]
    },
    "0cb4ff331e4f40939ae2ace9171d453f": {
     "views": [
      {
       "cell_index": 19
      }
     ]
    },
    "0e26e955c9084e0a95b0a1bfaae993e9": {
     "views": [
      {
       "cell_index": 19
      }
     ]
    },
    "0f0fb19551b64127861cefdafee884d5": {
     "views": [
      {
       "cell_index": 19
      }
     ]
    },
    "0f313c47dd0c456fac11f921c8a720ce": {
     "views": [
      {
       "cell_index": 19
      }
     ]
    },
    "0fec272c9cc84a3cbf44764077a18c3e": {
     "views": [
      {
       "cell_index": 19
      }
     ]
    },
    "10ea9ea2fcaf4f588af3eec628284c2a": {
     "views": [
      {
       "cell_index": 19
      }
     ]
    },
    "11b4ab0ce22d4553ade2ec661d20e87c": {
     "views": [
      {
       "cell_index": 19
      }
     ]
    },
    "11efff1b74b04052aa542107bc00c49e": {
     "views": [
      {
       "cell_index": 19
      }
     ]
    },
    "128373f2656e438ca25d689cbd298de4": {
     "views": [
      {
       "cell_index": 19
      }
     ]
    },
    "13685fff3def407a9e6bdd8447353789": {
     "views": [
      {
       "cell_index": 19
      }
     ]
    },
    "13d0fe40d3724fa4975453f05a63d5ff": {
     "views": [
      {
       "cell_index": 19
      }
     ]
    },
    "14329d35675c40999f13158bcf6ea865": {
     "views": [
      {
       "cell_index": 19
      }
     ]
    },
    "15340a51f30849b0b57e625652cac0c1": {
     "views": [
      {
       "cell_index": 19
      }
     ]
    },
    "15fdd23ce5844f4ea4bbf41f1a4127a8": {
     "views": [
      {
       "cell_index": 19
      }
     ]
    },
    "1695e6a7cbf1410da4be3ce72fe553fe": {
     "views": [
      {
       "cell_index": 19
      }
     ]
    },
    "16bc339294a54955bcdf0232abd4c570": {
     "views": [
      {
       "cell_index": 19
      }
     ]
    },
    "16ff2f7906fc4c388f43a0b816fad628": {
     "views": [
      {
       "cell_index": 19
      }
     ]
    },
    "1727614693a04ad3b98a9d82270244c1": {
     "views": [
      {
       "cell_index": 19
      }
     ]
    },
    "1792ccfcb9d7421c89d281b473f5cc34": {
     "views": [
      {
       "cell_index": 19
      }
     ]
    },
    "18a59610b5ee4cd3876532ab8103adbb": {
     "views": [
      {
       "cell_index": 19
      }
     ]
    },
    "193de44069b74d158f09a66f47b8adcb": {
     "views": [
      {
       "cell_index": 19
      }
     ]
    },
    "19772986f4144259aaf426e956996b6c": {
     "views": [
      {
       "cell_index": 19
      }
     ]
    },
    "1b0e49ac3b7347719399e1f177ea4b4d": {
     "views": [
      {
       "cell_index": 19
      }
     ]
    },
    "1ba196ed1e4444079009189968d21cc1": {
     "views": [
      {
       "cell_index": 19
      }
     ]
    },
    "1bb03230d9544cd4a4d7cd6dcf7d80f8": {
     "views": [
      {
       "cell_index": 19
      }
     ]
    },
    "1bd51ebda59640b68b8b17b413d1a0ae": {
     "views": [
      {
       "cell_index": 19
      }
     ]
    },
    "1c0f457acc1a4ad6b88583a67bbd1dc7": {
     "views": [
      {
       "cell_index": 19
      }
     ]
    },
    "1c905c4840264267b01a7f24481e825a": {
     "views": [
      {
       "cell_index": 19
      }
     ]
    },
    "1ce59ba7140e437dbd94fc2f2351a2b5": {
     "views": [
      {
       "cell_index": 19
      }
     ]
    },
    "1d03a53cafbf4f3abcb567d2145a0538": {
     "views": [
      {
       "cell_index": 19
      }
     ]
    },
    "1d3caeed17a44f6084cd267bea640b7b": {
     "views": [
      {
       "cell_index": 19
      }
     ]
    },
    "1db22d738b514bfeb132d7e9c471c09d": {
     "views": [
      {
       "cell_index": 19
      }
     ]
    },
    "1e4ec8ad11114c6ab2b8069a8beedffc": {
     "views": [
      {
       "cell_index": 19
      }
     ]
    },
    "1e79dd3aeb4b4c3f992519215fa9e260": {
     "views": [
      {
       "cell_index": 19
      }
     ]
    },
    "1f062b6f43a8473aaea1ce058a5381c2": {
     "views": [
      {
       "cell_index": 19
      }
     ]
    },
    "1fef8b71c24041d2850e58e038fb4a67": {
     "views": [
      {
       "cell_index": 19
      }
     ]
    },
    "1ffef0edd1a04d609127c390eb3f308e": {
     "views": [
      {
       "cell_index": 19
      }
     ]
    },
    "21925e779ba94b129882a41bb6726ea0": {
     "views": [
      {
       "cell_index": 19
      }
     ]
    },
    "21bdbab8f5ae4b85a6a3cb3ded5a35a0": {
     "views": [
      {
       "cell_index": 19
      }
     ]
    },
    "21f5cdb55bc54be58f370d522ea6d6cf": {
     "views": [
      {
       "cell_index": 19
      }
     ]
    },
    "225919a1376242399b6741e92f9b45b9": {
     "views": [
      {
       "cell_index": 19
      }
     ]
    },
    "22c14c495da041d1b951200dfdf53b3d": {
     "views": [
      {
       "cell_index": 19
      }
     ]
    },
    "2356b2b782e14be69067c92cadc6b205": {
     "views": [
      {
       "cell_index": 19
      }
     ]
    },
    "2412235b9e424b1097f87f3f5e0940f8": {
     "views": [
      {
       "cell_index": 19
      }
     ]
    },
    "24db496910f94b54bab8c2cac21c7e32": {
     "views": [
      {
       "cell_index": 19
      }
     ]
    },
    "2601157f629949268bf64d29c86e87df": {
     "views": [
      {
       "cell_index": 19
      }
     ]
    },
    "260e8b644e2347e6bc34b999e82d07b7": {
     "views": [
      {
       "cell_index": 19
      }
     ]
    },
    "26d272a8dc6342fe9302eb750b73b6c5": {
     "views": [
      {
       "cell_index": 19
      }
     ]
    },
    "27778de234ef41929474ac29dc14c43b": {
     "views": [
      {
       "cell_index": 19
      }
     ]
    },
    "28ce901b9a824ccfab3a23b1c8c3b645": {
     "views": [
      {
       "cell_index": 19
      }
     ]
    },
    "2a3abffd0add4532a50f008a9c640830": {
     "views": [
      {
       "cell_index": 19
      }
     ]
    },
    "2a3bd43ecfae4dbe8c7d6620a56ab59b": {
     "views": [
      {
       "cell_index": 19
      }
     ]
    },
    "2a7f6d874ffc45de9a57252134e6142f": {
     "views": [
      {
       "cell_index": 19
      }
     ]
    },
    "2ac89e4511bb479ea96a24e9bcae0885": {
     "views": [
      {
       "cell_index": 19
      }
     ]
    },
    "2af48410ccd8464ebd266255772b003e": {
     "views": [
      {
       "cell_index": 19
      }
     ]
    },
    "2b3b95a05d7e4b799c37d51f78cbf695": {
     "views": [
      {
       "cell_index": 19
      }
     ]
    },
    "2bb5f166f4f44cd48f518748aa26fafa": {
     "views": [
      {
       "cell_index": 19
      }
     ]
    },
    "2c78150ca2bc43b08c9fd8e8e512e020": {
     "views": [
      {
       "cell_index": 19
      }
     ]
    },
    "2cc912b57567459b9688154c5c5ac731": {
     "views": [
      {
       "cell_index": 19
      }
     ]
    },
    "2dfd8749247e4202acacd4442904e655": {
     "views": [
      {
       "cell_index": 19
      }
     ]
    },
    "2e1d99a4119c4ad3a5290a6721063957": {
     "views": [
      {
       "cell_index": 19
      }
     ]
    },
    "2f0e2f255d414e6d89cf5612c0c14777": {
     "views": [
      {
       "cell_index": 19
      }
     ]
    },
    "2f4db09ab5a448e19deebfa94c911912": {
     "views": [
      {
       "cell_index": 19
      }
     ]
    },
    "301d118ab12c48b3abc8e6cf0fe1df1c": {
     "views": [
      {
       "cell_index": 19
      }
     ]
    },
    "32c128ca042a4a80a11ea772d79aef61": {
     "views": [
      {
       "cell_index": 19
      }
     ]
    },
    "331fa2036faa4efb98c2541bda44ddcd": {
     "views": [
      {
       "cell_index": 19
      }
     ]
    },
    "33b47368ad7d4139800ae149ef518b73": {
     "views": [
      {
       "cell_index": 19
      }
     ]
    },
    "33d10b60831f41c7baff073e05470e77": {
     "views": [
      {
       "cell_index": 19
      }
     ]
    },
    "3438270f9d7a4dc98abbb1fdd3966919": {
     "views": [
      {
       "cell_index": 19
      }
     ]
    },
    "34728a12805b4553a40f4cda3d11437d": {
     "views": [
      {
       "cell_index": 19
      }
     ]
    },
    "34fcc25dd6d34b66a8269cfd84f9ac46": {
     "views": [
      {
       "cell_index": 19
      }
     ]
    },
    "3596a9b900854e59b69376fc015c4d3e": {
     "views": [
      {
       "cell_index": 19
      }
     ]
    },
    "366dfcb2c5e54cca945690da1bc4a35f": {
     "views": [
      {
       "cell_index": 19
      }
     ]
    },
    "3736794d68ce4123a272021dd727206e": {
     "views": [
      {
       "cell_index": 19
      }
     ]
    },
    "38c7343cdfa94a9cbffdd5145edbb884": {
     "views": [
      {
       "cell_index": 19
      }
     ]
    },
    "3914a6bddc7a49a6a6e1c319534895cd": {
     "views": [
      {
       "cell_index": 19
      }
     ]
    },
    "39ecd44c4da04e219fa580f3bc2228fa": {
     "views": [
      {
       "cell_index": 19
      }
     ]
    },
    "3a3e07d0119e4a34a809ca5140f601ba": {
     "views": [
      {
       "cell_index": 19
      }
     ]
    },
    "3e4c03067ee047b798199c6ccc29b0c7": {
     "views": [
      {
       "cell_index": 19
      }
     ]
    },
    "3eb83de3a8f045938adc632533fca442": {
     "views": [
      {
       "cell_index": 19
      }
     ]
    },
    "3f23e9f18695435da246fa2efde39bd7": {
     "views": [
      {
       "cell_index": 19
      }
     ]
    },
    "3f2d19567ce84cf199640f2bdd085f82": {
     "views": [
      {
       "cell_index": 19
      }
     ]
    },
    "3fcac251a7474b5ca1ff4c8c4e24cd97": {
     "views": [
      {
       "cell_index": 19
      }
     ]
    },
    "401060bef6be4277a25705151302e407": {
     "views": [
      {
       "cell_index": 19
      }
     ]
    },
    "40799301837b4d6fa91dd432d42fef81": {
     "views": [
      {
       "cell_index": 19
      }
     ]
    },
    "40b3c3ff185b4a08821b5d2acb5459da": {
     "views": [
      {
       "cell_index": 19
      }
     ]
    },
    "40f3ce484a304927b9cd08752a54787a": {
     "views": [
      {
       "cell_index": 19
      }
     ]
    },
    "40fe70ae4ff44f0c828707c1fb1ff21d": {
     "views": [
      {
       "cell_index": 19
      }
     ]
    },
    "41085220f54a47898b37069a2ae6e1e8": {
     "views": [
      {
       "cell_index": 19
      }
     ]
    },
    "41e904c877734cb5a297461915ad3e0a": {
     "views": [
      {
       "cell_index": 19
      }
     ]
    },
    "427a374d3ca14ad282e5a06e6b8fc4d6": {
     "views": [
      {
       "cell_index": 19
      }
     ]
    },
    "433b4fe90ba847899e15e6c73f2a729e": {
     "views": [
      {
       "cell_index": 19
      }
     ]
    },
    "433e630b953941fd85260fdc35deca7b": {
     "views": [
      {
       "cell_index": 19
      }
     ]
    },
    "43897d2b7d0f4ad5bc3837c81cf6a5a4": {
     "views": [
      {
       "cell_index": 19
      }
     ]
    },
    "43946d314be245309143929f91edff5e": {
     "views": [
      {
       "cell_index": 19
      }
     ]
    },
    "44407b730c7f484dbcb77daf9544408d": {
     "views": [
      {
       "cell_index": 19
      }
     ]
    },
    "4466b42b9f714ce89c75b8ab8a40c2d6": {
     "views": [
      {
       "cell_index": 19
      }
     ]
    },
    "44d2631912f94be2965cc9126792e9cd": {
     "views": [
      {
       "cell_index": 19
      }
     ]
    },
    "44d863b866874aa0b9979fb6f5897987": {
     "views": [
      {
       "cell_index": 19
      }
     ]
    },
    "44f3586b3f3e456ca2613fd20e2c343a": {
     "views": [
      {
       "cell_index": 19
      }
     ]
    },
    "45bb6e3f629b4448a0cada8b91068667": {
     "views": [
      {
       "cell_index": 19
      }
     ]
    },
    "464425984e3b43a085b6e9e3268e11e9": {
     "views": [
      {
       "cell_index": 19
      }
     ]
    },
    "468cc147c28844d49b31b9b0f0b09233": {
     "views": [
      {
       "cell_index": 19
      }
     ]
    },
    "4809c3263ecb4afc851882833b2ee081": {
     "views": [
      {
       "cell_index": 19
      }
     ]
    },
    "48f21f5c6aed40a095098f3f39a4328a": {
     "views": [
      {
       "cell_index": 19
      }
     ]
    },
    "48f90f3c8fcf4e5d8cd73e5306bdf3ab": {
     "views": [
      {
       "cell_index": 19
      }
     ]
    },
    "4ad495e4ceb94b1f93bd8f84dea28716": {
     "views": [
      {
       "cell_index": 19
      }
     ]
    },
    "4b5f98ebf5614eff8e4fabcca2de258b": {
     "views": [
      {
       "cell_index": 19
      }
     ]
    },
    "4bfb0c9c6c9249f49e1f972ae4e24c43": {
     "views": [
      {
       "cell_index": 19
      }
     ]
    },
    "4c3e952a6d37454aa664a7fa0fbb9e0f": {
     "views": [
      {
       "cell_index": 19
      }
     ]
    },
    "4ca93746a6834c02976179924d1c0964": {
     "views": [
      {
       "cell_index": 19
      }
     ]
    },
    "4ccf11efd91a4afaaf4f61856bc93031": {
     "views": [
      {
       "cell_index": 19
      }
     ]
    },
    "4cd321f2404c45b894b1120e0fe61625": {
     "views": [
      {
       "cell_index": 19
      }
     ]
    },
    "4cf3be929148412f806a1bd11bf8d4c8": {
     "views": [
      {
       "cell_index": 19
      }
     ]
    },
    "4d2b56c3146a4d99b9b1980de52e64b8": {
     "views": [
      {
       "cell_index": 19
      }
     ]
    },
    "4fb4c84f3de04a1cbab956a8aabfbdb5": {
     "views": [
      {
       "cell_index": 19
      }
     ]
    },
    "4fe8bf6d586948ff826f0819f70282b3": {
     "views": [
      {
       "cell_index": 19
      }
     ]
    },
    "504bfe75c8cf4220b8fe7919b6f88302": {
     "views": [
      {
       "cell_index": 19
      }
     ]
    },
    "509b3a194a6a4db9bdc50cb1b5f743b9": {
     "views": [
      {
       "cell_index": 19
      }
     ]
    },
    "50d308d564a84a2789b40cfb9bf7e83f": {
     "views": [
      {
       "cell_index": 19
      }
     ]
    },
    "51d23e76a32747dbbba88eddb214bcdf": {
     "views": [
      {
       "cell_index": 19
      }
     ]
    },
    "5247fb0d66fc4f3caeb865d1891d9458": {
     "views": [
      {
       "cell_index": 19
      }
     ]
    },
    "5315e74ebe714870b2d381de4b819c4f": {
     "views": [
      {
       "cell_index": 19
      }
     ]
    },
    "538d770a88294725be26a356ebe64b4e": {
     "views": [
      {
       "cell_index": 19
      }
     ]
    },
    "53e89cea8dee407ab35a60c647bdb646": {
     "views": [
      {
       "cell_index": 19
      }
     ]
    },
    "54422395cde149e3bc7649d35c566e87": {
     "views": [
      {
       "cell_index": 19
      }
     ]
    },
    "5522fa00882e4998b4e5915bf51f93dd": {
     "views": [
      {
       "cell_index": 19
      }
     ]
    },
    "55f976a751c54be29f48e67fd5b7601c": {
     "views": [
      {
       "cell_index": 19
      }
     ]
    },
    "560c4e1ffd64411ab635dcd960aa1d86": {
     "views": [
      {
       "cell_index": 19
      }
     ]
    },
    "560ed6c20c4c4c66999a1d5605cc02a1": {
     "views": [
      {
       "cell_index": 19
      }
     ]
    },
    "5676e5b9dbfa47948cf12432b439ff0b": {
     "views": [
      {
       "cell_index": 19
      }
     ]
    },
    "569dd4b8764441698c8ce65a3528cdda": {
     "views": [
      {
       "cell_index": 19
      }
     ]
    },
    "5855e05e5eb74c00b39f1390ed9c5b57": {
     "views": [
      {
       "cell_index": 19
      }
     ]
    },
    "58982c2ed9584c589cd32118703dbad4": {
     "views": [
      {
       "cell_index": 19
      }
     ]
    },
    "58abe3d6b085411caefe11d6fb607101": {
     "views": [
      {
       "cell_index": 19
      }
     ]
    },
    "58e3db2b66c2451287d2c0e7fe14ab90": {
     "views": [
      {
       "cell_index": 19
      }
     ]
    },
    "596105eadf0c406bb08efbb9d1c0d0f9": {
     "views": [
      {
       "cell_index": 19
      }
     ]
    },
    "59b6e408ea594c27956e821cd8551dfb": {
     "views": [
      {
       "cell_index": 19
      }
     ]
    },
    "59e01d24e23b40299a36b97efeb03e57": {
     "views": [
      {
       "cell_index": 19
      }
     ]
    },
    "5b18b471beea435a9e742b365de99477": {
     "views": [
      {
       "cell_index": 19
      }
     ]
    },
    "5b3c6cb3b33b43d29bbfb41832b474a5": {
     "views": [
      {
       "cell_index": 19
      }
     ]
    },
    "5b910aedef214a39956d4442fad2223c": {
     "views": [
      {
       "cell_index": 19
      }
     ]
    },
    "5bbf6752c95b41bc94f6a24e924da7c5": {
     "views": [
      {
       "cell_index": 19
      }
     ]
    },
    "5be531e152da41cea48553354228a1d1": {
     "views": [
      {
       "cell_index": 19
      }
     ]
    },
    "5c63f20c526f4c6c9fc606524a310ead": {
     "views": [
      {
       "cell_index": 19
      }
     ]
    },
    "5c8355063bf8418380d261d86ac0e04e": {
     "views": [
      {
       "cell_index": 19
      }
     ]
    },
    "5cb29c5708184a50bc031f98f29be9cd": {
     "views": [
      {
       "cell_index": 19
      }
     ]
    },
    "5d6ba2aca87a4c4aa60c926ead7d418a": {
     "views": [
      {
       "cell_index": 19
      }
     ]
    },
    "5e559996ef0448d3b6a2ed7616740bae": {
     "views": [
      {
       "cell_index": 19
      }
     ]
    },
    "5e8b5a6527064843b22df05061161562": {
     "views": [
      {
       "cell_index": 19
      }
     ]
    },
    "5f27e32a852e42e6a8706232814e2c48": {
     "views": [
      {
       "cell_index": 19
      }
     ]
    },
    "5f57d2b207194c28aeafd2e86bbbab11": {
     "views": [
      {
       "cell_index": 19
      }
     ]
    },
    "60a07c2cf9d84e7e9f28f7aed79a3df1": {
     "views": [
      {
       "cell_index": 19
      }
     ]
    },
    "60e939e470bc4a779b71b34e82bf8b50": {
     "views": [
      {
       "cell_index": 19
      }
     ]
    },
    "60ff1bed0baa49709599900b01022811": {
     "views": [
      {
       "cell_index": 19
      }
     ]
    },
    "610d36e531c04e5d8ebecbf62689851c": {
     "views": [
      {
       "cell_index": 19
      }
     ]
    },
    "62f5fb39866d4c04b597612498297976": {
     "views": [
      {
       "cell_index": 19
      }
     ]
    },
    "6485b61a676143319ec971e295c66583": {
     "views": [
      {
       "cell_index": 19
      }
     ]
    },
    "64d243204d84490494256a096686024c": {
     "views": [
      {
       "cell_index": 19
      }
     ]
    },
    "66264f9ab33546b6aa05b1cd1f6b6035": {
     "views": [
      {
       "cell_index": 19
      }
     ]
    },
    "66c62e35f88846fc9bbad86d7fc45559": {
     "views": [
      {
       "cell_index": 19
      }
     ]
    },
    "68a47a8898234e249e48885e3f3261ba": {
     "views": [
      {
       "cell_index": 19
      }
     ]
    },
    "691171139dfb487989ba6da3ba4bc997": {
     "views": [
      {
       "cell_index": 19
      }
     ]
    },
    "695b790fd09c43c88c2493b6b46eee69": {
     "views": [
      {
       "cell_index": 19
      }
     ]
    },
    "69bc4227922a4ec0a387020f5225eb5b": {
     "views": [
      {
       "cell_index": 19
      }
     ]
    },
    "69e098aaa5aa44f88f0f92813b8b2f60": {
     "views": [
      {
       "cell_index": 19
      }
     ]
    },
    "6a6761075b0140cfbcead635d6d9fda1": {
     "views": [
      {
       "cell_index": 19
      }
     ]
    },
    "6a7aec40b8804a04af82139a424f982b": {
     "views": [
      {
       "cell_index": 19
      }
     ]
    },
    "6a93124be3cf4c39acb46960315de6f7": {
     "views": [
      {
       "cell_index": 19
      }
     ]
    },
    "6ab4e7df99b54e8d8958a830a366ba3a": {
     "views": [
      {
       "cell_index": 19
      }
     ]
    },
    "6ae88e02104b4d6db91b63715bd4766e": {
     "views": [
      {
       "cell_index": 19
      }
     ]
    },
    "6b2ec8772eec406c9e650902a4eb4ff1": {
     "views": [
      {
       "cell_index": 19
      }
     ]
    },
    "6c0a100bb9024e8892bc18d89bac9da3": {
     "views": [
      {
       "cell_index": 19
      }
     ]
    },
    "6c9d12219b9748919c6668972ec4e725": {
     "views": [
      {
       "cell_index": 19
      }
     ]
    },
    "6d11dc43f5eb45058a0a20ee7e35e995": {
     "views": [
      {
       "cell_index": 19
      }
     ]
    },
    "6eeefb9ff48046829baf38ab7b3a3a6f": {
     "views": [
      {
       "cell_index": 19
      }
     ]
    },
    "6f6a81522c6149178cbde320b7e1a8f6": {
     "views": [
      {
       "cell_index": 19
      }
     ]
    },
    "6fcd1d8871fd4b929f60e360206e30ab": {
     "views": [
      {
       "cell_index": 19
      }
     ]
    },
    "7067650dc4e440318cdab240e6a4c491": {
     "views": [
      {
       "cell_index": 19
      }
     ]
    },
    "70f26899d5964e919cf1deb85f0dd0a4": {
     "views": [
      {
       "cell_index": 19
      }
     ]
    },
    "714e2b2aedc4429b8e221101d5708da3": {
     "views": [
      {
       "cell_index": 19
      }
     ]
    },
    "719282d60b5d4c02a327fa182de5e101": {
     "views": [
      {
       "cell_index": 19
      }
     ]
    },
    "74e3a16ff7aa459e83119ab9f5758a27": {
     "views": [
      {
       "cell_index": 19
      }
     ]
    },
    "7580c366809640fdbafcc7310d5a05f1": {
     "views": [
      {
       "cell_index": 19
      }
     ]
    },
    "75a9839a896446638f96a46629fdba9f": {
     "views": [
      {
       "cell_index": 19
      }
     ]
    },
    "75c9eee471c34e119b02b332cd442d29": {
     "views": [
      {
       "cell_index": 19
      }
     ]
    },
    "76eb6ef111314f8189cfb78028d1784a": {
     "views": [
      {
       "cell_index": 19
      }
     ]
    },
    "77d608928c01405e8fe868300563ec86": {
     "views": [
      {
       "cell_index": 19
      }
     ]
    },
    "7820f79350ec4fbda6c46fcaae784931": {
     "views": [
      {
       "cell_index": 19
      }
     ]
    },
    "79292fd834f44eed85697f257199417c": {
     "views": [
      {
       "cell_index": 19
      }
     ]
    },
    "7a0dc9053e7445c8871e15f60704e8ae": {
     "views": [
      {
       "cell_index": 19
      }
     ]
    },
    "7be4b848ba6f4f0ba0cdec128dbfa519": {
     "views": [
      {
       "cell_index": 19
      }
     ]
    },
    "7c1739c08923472f947737376bfc7ffe": {
     "views": [
      {
       "cell_index": 19
      }
     ]
    },
    "7e25e14beb6e431bb74cd66accd3e44d": {
     "views": [
      {
       "cell_index": 19
      }
     ]
    },
    "7e7cc09d9bdf42d4b5eac903d5b284dd": {
     "views": [
      {
       "cell_index": 19
      }
     ]
    },
    "7eb8159979a34d35a397b65cd1125d85": {
     "views": [
      {
       "cell_index": 19
      }
     ]
    },
    "7f30c4a9ce084e5dbbb71c9a8b9f4cf1": {
     "views": [
      {
       "cell_index": 19
      }
     ]
    },
    "7f7253451de8479f94407279d665be06": {
     "views": [
      {
       "cell_index": 19
      }
     ]
    },
    "7f9fd6b20e7345cf905bebc762cea0f8": {
     "views": [
      {
       "cell_index": 19
      }
     ]
    },
    "802b6a7c43e843789b1d940f49cdd770": {
     "views": [
      {
       "cell_index": 19
      }
     ]
    },
    "811c24bbb0734bd692c5db4457362ae7": {
     "views": [
      {
       "cell_index": 19
      }
     ]
    },
    "81233a04a7304faeabc170daaa597c57": {
     "views": [
      {
       "cell_index": 19
      }
     ]
    },
    "8175d18da9354b208adc95d4a921e6b8": {
     "views": [
      {
       "cell_index": 19
      }
     ]
    },
    "8306182d0f044c62a68b3d9d6700a230": {
     "views": [
      {
       "cell_index": 19
      }
     ]
    },
    "834ec24043294d1fb812092cfe35137b": {
     "views": [
      {
       "cell_index": 19
      }
     ]
    },
    "842e6d003ba943edb10b21e074a630df": {
     "views": [
      {
       "cell_index": 19
      }
     ]
    },
    "84b614c41b374f8b80b008739773742f": {
     "views": [
      {
       "cell_index": 19
      }
     ]
    },
    "861a272d7d364e09835e4321eda39ab6": {
     "views": [
      {
       "cell_index": 19
      }
     ]
    },
    "86df5863950c48c8a4bb132c89f1e472": {
     "views": [
      {
       "cell_index": 19
      }
     ]
    },
    "875d94e2d29e46f3b8625d146b179cd5": {
     "views": [
      {
       "cell_index": 19
      }
     ]
    },
    "888642d8e0c442f4ad643c1f5aeba71f": {
     "views": [
      {
       "cell_index": 19
      }
     ]
    },
    "8887761fa18c490eb6acee6e23bdefbd": {
     "views": [
      {
       "cell_index": 19
      }
     ]
    },
    "88d05b909ba4498aab6304e7c6c75fac": {
     "views": [
      {
       "cell_index": 19
      }
     ]
    },
    "88e0fb1217db4094ba251e16638459a7": {
     "views": [
      {
       "cell_index": 19
      }
     ]
    },
    "892cc87d112541aebdb699781cae6a36": {
     "views": [
      {
       "cell_index": 19
      }
     ]
    },
    "8a418f17dfc6408bb3a9931bdc26a344": {
     "views": [
      {
       "cell_index": 19
      }
     ]
    },
    "8b1c1caeb22d4c37b7ef48ad86176571": {
     "views": [
      {
       "cell_index": 19
      }
     ]
    },
    "8c1ea224438848b4bffd467b4020a7fe": {
     "views": [
      {
       "cell_index": 19
      }
     ]
    },
    "8c7f37110aed45d281477475024382d9": {
     "views": [
      {
       "cell_index": 19
      }
     ]
    },
    "8d625ef314ef42368902f6bc30a8e993": {
     "views": [
      {
       "cell_index": 19
      }
     ]
    },
    "8d67b177d9954a5dbd3f4e87501cd89f": {
     "views": [
      {
       "cell_index": 19
      }
     ]
    },
    "8d7c717b23c844269706016fcb886775": {
     "views": [
      {
       "cell_index": 19
      }
     ]
    },
    "8daaeb33440642168a8855dbbdbe34c7": {
     "views": [
      {
       "cell_index": 19
      }
     ]
    },
    "8e0f4b76739f448c87e54ba8644e44d7": {
     "views": [
      {
       "cell_index": 19
      }
     ]
    },
    "8f4db527607b427088d8efd258973602": {
     "views": [
      {
       "cell_index": 19
      }
     ]
    },
    "901fbffc4a3346ce9153ed31c0485c40": {
     "views": [
      {
       "cell_index": 19
      }
     ]
    },
    "90a60dab8c3947e9bc9c7cd9975f3d6a": {
     "views": [
      {
       "cell_index": 19
      }
     ]
    },
    "90b8255619bf4a0ab4dcb64dd4a2d90e": {
     "views": [
      {
       "cell_index": 19
      }
     ]
    },
    "920c735de64a4e35ad2980a1a95e25e0": {
     "views": [
      {
       "cell_index": 19
      }
     ]
    },
    "92afd2c69da34c878868a225af551572": {
     "views": [
      {
       "cell_index": 19
      }
     ]
    },
    "9399abb03e984badbfaa126af3069265": {
     "views": [
      {
       "cell_index": 19
      }
     ]
    },
    "94623f5a0f0846f29e2fa10e7f1e0597": {
     "views": [
      {
       "cell_index": 19
      }
     ]
    },
    "97624588c93e43f6bb5cea9c2e353b9f": {
     "views": [
      {
       "cell_index": 19
      }
     ]
    },
    "987b278416fe44c5b0484f8d3c4f0d4f": {
     "views": [
      {
       "cell_index": 19
      }
     ]
    },
    "989193da95e6446ebdc09e4ffd01e2f4": {
     "views": [
      {
       "cell_index": 19
      }
     ]
    },
    "990383d0624e493e9d436f9877ad4039": {
     "views": [
      {
       "cell_index": 19
      }
     ]
    },
    "9944b4451cc941c4aa6de3858ef1f672": {
     "views": [
      {
       "cell_index": 19
      }
     ]
    },
    "99e3d2f82fda4f4ba05dc467ab3ab3a5": {
     "views": [
      {
       "cell_index": 19
      }
     ]
    },
    "99f58bf8f58d4102a21f5fd63875f1d1": {
     "views": [
      {
       "cell_index": 19
      }
     ]
    },
    "9a4ec7563750470692b8930474036ca7": {
     "views": [
      {
       "cell_index": 19
      }
     ]
    },
    "9a8d9ca7e8de47abbdd799759123ff8c": {
     "views": [
      {
       "cell_index": 19
      }
     ]
    },
    "9aaca31350974619a76a98ee08068c74": {
     "views": [
      {
       "cell_index": 19
      }
     ]
    },
    "9ad58cb465a04be2bd04c0b3a498d9d1": {
     "views": [
      {
       "cell_index": 19
      }
     ]
    },
    "9af268b3de67468b9fefc315315b2417": {
     "views": [
      {
       "cell_index": 19
      }
     ]
    },
    "9b48d31e54034a5ea61ab9fa5a422e16": {
     "views": [
      {
       "cell_index": 19
      }
     ]
    },
    "9b8d53987cdd406d8c0ba392fabdaf5c": {
     "views": [
      {
       "cell_index": 19
      }
     ]
    },
    "9cb555c33fcc4a08a2814ddc2c973cf7": {
     "views": [
      {
       "cell_index": 19
      }
     ]
    },
    "9cdcccbddd644168952ce30026d6fa71": {
     "views": [
      {
       "cell_index": 19
      }
     ]
    },
    "9daf588619b24accae5465fe84cf4b59": {
     "views": [
      {
       "cell_index": 19
      }
     ]
    },
    "9eeb352974234ec9b86f93ed2ee96fa5": {
     "views": [
      {
       "cell_index": 19
      }
     ]
    },
    "9f17b6043b564969be47366e49829d5a": {
     "views": [
      {
       "cell_index": 19
      }
     ]
    },
    "9f53f0e7e9af40d388eb786176679ba2": {
     "views": [
      {
       "cell_index": 19
      }
     ]
    },
    "9f805d2260614d2cb9b5e27699b40b3b": {
     "views": [
      {
       "cell_index": 19
      }
     ]
    },
    "a02785820a5a49f9ae22c39440172b54": {
     "views": [
      {
       "cell_index": 19
      }
     ]
    },
    "a07df15a916841b0a0607087faca1cf7": {
     "views": [
      {
       "cell_index": 19
      }
     ]
    },
    "a26e73deb54647fd9550bd37fdcf25a5": {
     "views": [
      {
       "cell_index": 19
      }
     ]
    },
    "a33ef2fe1f5e4eacadc80ab09ec69ffe": {
     "views": [
      {
       "cell_index": 19
      }
     ]
    },
    "a36dee7a1f224b699a664647b81e9ffd": {
     "views": [
      {
       "cell_index": 19
      }
     ]
    },
    "a3e5fe7774c346f5976e61a806a32a4c": {
     "views": [
      {
       "cell_index": 19
      }
     ]
    },
    "a564b256133547d0a8e83319f5dea00e": {
     "views": [
      {
       "cell_index": 19
      }
     ]
    },
    "a6586d7748ba49afac2525fd812ce514": {
     "views": [
      {
       "cell_index": 19
      }
     ]
    },
    "a6f6b4cc13c343f9b64c6cbca59f71b7": {
     "views": [
      {
       "cell_index": 19
      }
     ]
    },
    "a760e4a484d6400785bee997740d2bfc": {
     "views": [
      {
       "cell_index": 19
      }
     ]
    },
    "a849b2b0c3e3487e800b5195cc014f79": {
     "views": [
      {
       "cell_index": 19
      }
     ]
    },
    "a8e5c609f0d44ca88ee80b5a86008007": {
     "views": [
      {
       "cell_index": 19
      }
     ]
    },
    "a95a66f609fb4a98a323e88a22dd9d0d": {
     "views": [
      {
       "cell_index": 19
      }
     ]
    },
    "a977b228bb7c49489917260ecc37a5ed": {
     "views": [
      {
       "cell_index": 19
      }
     ]
    },
    "a9d19297fe8f4e36afe163299699dfd4": {
     "views": [
      {
       "cell_index": 19
      }
     ]
    },
    "aa0e1b1d18134f24bc8b16b755a89ecc": {
     "views": [
      {
       "cell_index": 19
      }
     ]
    },
    "aa3f53d48a1145e881bbcf3b55ac5214": {
     "views": [
      {
       "cell_index": 19
      }
     ]
    },
    "aa89bd7263244f9cbd981fd2b7ed2f8e": {
     "views": [
      {
       "cell_index": 19
      }
     ]
    },
    "aa99e05e32864b7a8e5ecfd1a21353af": {
     "views": [
      {
       "cell_index": 19
      }
     ]
    },
    "ab112feb52fd418d9910047151d682d7": {
     "views": [
      {
       "cell_index": 19
      }
     ]
    },
    "ab1a09c38fd944808fc28bf59978f829": {
     "views": [
      {
       "cell_index": 19
      }
     ]
    },
    "ab2d95c32d3a477284acbc6f9aecd942": {
     "views": [
      {
       "cell_index": 19
      }
     ]
    },
    "ab67cfe6b9344536a1b4ed7f6d4568c9": {
     "views": [
      {
       "cell_index": 19
      }
     ]
    },
    "abbb79b3fe35489fa76034b947ce8720": {
     "views": [
      {
       "cell_index": 19
      }
     ]
    },
    "abbbc702daae4174b2725f43da9c24e1": {
     "views": [
      {
       "cell_index": 19
      }
     ]
    },
    "acdc9b80139643b88e595cabd2fff082": {
     "views": [
      {
       "cell_index": 19
      }
     ]
    },
    "ad1d50a60dd34dc3aaf4a9b7d737aa0c": {
     "views": [
      {
       "cell_index": 19
      }
     ]
    },
    "adc1e98d97b642e494c86351a631046f": {
     "views": [
      {
       "cell_index": 19
      }
     ]
    },
    "ae16cc18dd764388bf160d78858300e9": {
     "views": [
      {
       "cell_index": 19
      }
     ]
    },
    "ae39ee0a31914a648aebba51973302ab": {
     "views": [
      {
       "cell_index": 19
      }
     ]
    },
    "af418c1015ac41afa8ec23a864f4e2a8": {
     "views": [
      {
       "cell_index": 19
      }
     ]
    },
    "af59d116cbb44c708f5d70e2ed355632": {
     "views": [
      {
       "cell_index": 19
      }
     ]
    },
    "b0bba66cce6443f4b4dd8e05334e0a20": {
     "views": [
      {
       "cell_index": 19
      }
     ]
    },
    "b12bbba4a17348a9bcd5be2949e85d94": {
     "views": [
      {
       "cell_index": 19
      }
     ]
    },
    "b27bbce16ec14af5a82df09ace2fbd29": {
     "views": [
      {
       "cell_index": 19
      }
     ]
    },
    "b39fc5b1b3984522a7b1593334826c7c": {
     "views": [
      {
       "cell_index": 19
      }
     ]
    },
    "b401a859774b4eb28a14f0beedd3bbae": {
     "views": [
      {
       "cell_index": 19
      }
     ]
    },
    "b42baf141eff4e43b07cd826310d49fa": {
     "views": [
      {
       "cell_index": 19
      }
     ]
    },
    "b44ca7ac62dd4739a366d190e6ed1daa": {
     "views": [
      {
       "cell_index": 19
      }
     ]
    },
    "b4c59fe82a9947b0be5675853fcca0e5": {
     "views": [
      {
       "cell_index": 19
      }
     ]
    },
    "b540729d323043dfa2aae58e6d031c1f": {
     "views": [
      {
       "cell_index": 19
      }
     ]
    },
    "b63241156daf4ec780e4ef6f8a187c46": {
     "views": [
      {
       "cell_index": 19
      }
     ]
    },
    "b6c2ba1a53ac42e19d4bb5e4f749fdd2": {
     "views": [
      {
       "cell_index": 19
      }
     ]
    },
    "b762f69bd13844ac9f2b159ee3ed7814": {
     "views": [
      {
       "cell_index": 19
      }
     ]
    },
    "b76a24185a59417b9c0373831ce25107": {
     "views": [
      {
       "cell_index": 19
      }
     ]
    },
    "b7bda3223e444cc9b5104b65a57e235c": {
     "views": [
      {
       "cell_index": 19
      }
     ]
    },
    "b8516fc0f81b4e0692f0b8bbad733de3": {
     "views": [
      {
       "cell_index": 19
      }
     ]
    },
    "b8a421aa3d8744409b7363607e5ae2ea": {
     "views": [
      {
       "cell_index": 19
      }
     ]
    },
    "b900f525167f44f19fdf847bbddd3a6a": {
     "views": [
      {
       "cell_index": 19
      }
     ]
    },
    "ba5b3462358d4d21b78181e9fcc68c9b": {
     "views": [
      {
       "cell_index": 19
      }
     ]
    },
    "ba7f5218271446b5adca8d91e99db798": {
     "views": [
      {
       "cell_index": 19
      }
     ]
    },
    "ba9beb5a48a745018dc91cf5584ee3cc": {
     "views": [
      {
       "cell_index": 19
      }
     ]
    },
    "bac336bbad1d408e9a66ebfba9495ca5": {
     "views": [
      {
       "cell_index": 19
      }
     ]
    },
    "bac6dddbea3d445896f73efe5443a0a7": {
     "views": [
      {
       "cell_index": 19
      }
     ]
    },
    "bb0bcc0e1f1241a2934b959ff3b23250": {
     "views": [
      {
       "cell_index": 19
      }
     ]
    },
    "bb6860320d2f4ffa923ce913d5de3584": {
     "views": [
      {
       "cell_index": 19
      }
     ]
    },
    "bb71bd8a05ae47d8b991550c60dc6aed": {
     "views": [
      {
       "cell_index": 19
      }
     ]
    },
    "bbf658fcb6c24eb89524dab62e09431d": {
     "views": [
      {
       "cell_index": 19
      }
     ]
    },
    "bcdfa48f34384bfcbebfdf7eca4edefb": {
     "views": [
      {
       "cell_index": 19
      }
     ]
    },
    "bd1db6098d324524802d6594c9b66930": {
     "views": [
      {
       "cell_index": 19
      }
     ]
    },
    "bd55c245080844a3bbd0d7c08bd6112e": {
     "views": [
      {
       "cell_index": 19
      }
     ]
    },
    "bd73c7b3f16347afb1833928a1a425a7": {
     "views": [
      {
       "cell_index": 19
      }
     ]
    },
    "bddc63b5d5d8419ba3e98401a266d7e3": {
     "views": [
      {
       "cell_index": 19
      }
     ]
    },
    "be007743585f4009bfee36af089396bc": {
     "views": [
      {
       "cell_index": 19
      }
     ]
    },
    "bf5b9e3963ce44ecbb7120ac5320d88e": {
     "views": [
      {
       "cell_index": 19
      }
     ]
    },
    "c075e8e0ff9d4bfc96af31483402bf62": {
     "views": [
      {
       "cell_index": 19
      }
     ]
    },
    "c10484c9cb9844cab2292e372f51231c": {
     "views": [
      {
       "cell_index": 19
      }
     ]
    },
    "c14ecee50968431eb596db26c129af42": {
     "views": [
      {
       "cell_index": 19
      }
     ]
    },
    "c1606fa8871e48b98a21c915d39b61ed": {
     "views": [
      {
       "cell_index": 19
      }
     ]
    },
    "c2ad6c72e8c64c42b8b5f76788a15c04": {
     "views": [
      {
       "cell_index": 19
      }
     ]
    },
    "c2ce9d4cd25a4cd7ade970fef397453c": {
     "views": [
      {
       "cell_index": 19
      }
     ]
    },
    "c33b87858248468abb87f7811657410e": {
     "views": [
      {
       "cell_index": 19
      }
     ]
    },
    "c33c0fa6135d42869ce2f47c1f727811": {
     "views": [
      {
       "cell_index": 19
      }
     ]
    },
    "c3b5ca9cc10240eabce127ed667b1a49": {
     "views": [
      {
       "cell_index": 19
      }
     ]
    },
    "c47d5ee5b9cd4922b3f4ebfa4e996690": {
     "views": [
      {
       "cell_index": 19
      }
     ]
    },
    "c4fde5922f9a4397b7bb521932e4e8da": {
     "views": [
      {
       "cell_index": 19
      }
     ]
    },
    "c536592ff2254e7083d8a660e1c88461": {
     "views": [
      {
       "cell_index": 19
      }
     ]
    },
    "c5732b9517da43a7bb07128d85f06806": {
     "views": [
      {
       "cell_index": 19
      }
     ]
    },
    "c75fafd0ff814048923249419d70b4ad": {
     "views": [
      {
       "cell_index": 19
      }
     ]
    },
    "c8cd7783b7cd456695c1e6bbe7a45c39": {
     "views": [
      {
       "cell_index": 19
      }
     ]
    },
    "c97bb4b0aacf4cfbb7762daeca1f84ac": {
     "views": [
      {
       "cell_index": 19
      }
     ]
    },
    "c98cc4fb5f05451cb1c317eed6627df2": {
     "views": [
      {
       "cell_index": 19
      }
     ]
    },
    "cb62bb09e0d9495caeb893f5bee72fd1": {
     "views": [
      {
       "cell_index": 19
      }
     ]
    },
    "cb933d6917a04cf78e5fb023b5ae3ada": {
     "views": [
      {
       "cell_index": 19
      }
     ]
    },
    "cba0d83ba4d44de0beb6ecce5c8db9a9": {
     "views": [
      {
       "cell_index": 19
      }
     ]
    },
    "cbba7326fc95480d8268589eeb917f22": {
     "views": [
      {
       "cell_index": 19
      }
     ]
    },
    "cd7f4ad6cea54bb3b78b0df3c24366b4": {
     "views": [
      {
       "cell_index": 19
      }
     ]
    },
    "ce7c958bc6c24db798f481ca59531c6c": {
     "views": [
      {
       "cell_index": 19
      }
     ]
    },
    "ce82a8cdea8d41b4b03839b8d1476051": {
     "views": [
      {
       "cell_index": 19
      }
     ]
    },
    "cf9f163f253c4576a5af5016ba6b4bd4": {
     "views": [
      {
       "cell_index": 19
      }
     ]
    },
    "cfca1c7baa4a4ce6ae434fe44fc24861": {
     "views": [
      {
       "cell_index": 19
      }
     ]
    },
    "cfcbf6512a934e00a6e27a0272db5e21": {
     "views": [
      {
       "cell_index": 19
      }
     ]
    },
    "cff33180ad6f43c7b0901647e47326c3": {
     "views": [
      {
       "cell_index": 19
      }
     ]
    },
    "d00f1935d6824142a4cfac2f70fa2bf0": {
     "views": [
      {
       "cell_index": 19
      }
     ]
    },
    "d086130c47b340e2bfbe73c09c3f6dc7": {
     "views": [
      {
       "cell_index": 19
      }
     ]
    },
    "d10b4093ca43493fae4784fe996bc85c": {
     "views": [
      {
       "cell_index": 19
      }
     ]
    },
    "d1f9b030d0864d6c8f106f2b63d5fd95": {
     "views": [
      {
       "cell_index": 19
      }
     ]
    },
    "d4f34ab2181045b1a531861da0035338": {
     "views": [
      {
       "cell_index": 19
      }
     ]
    },
    "d517a41b84c8423c86fdb6404a334180": {
     "views": [
      {
       "cell_index": 19
      }
     ]
    },
    "d521a599ef21482abac61352b22b1146": {
     "views": [
      {
       "cell_index": 19
      }
     ]
    },
    "d57aebb26c3f46afa41fa78b3d08288c": {
     "views": [
      {
       "cell_index": 19
      }
     ]
    },
    "d5a2664134cd4864b3eb810e9f26c10a": {
     "views": [
      {
       "cell_index": 19
      }
     ]
    },
    "d608ab6ef8df4659a66c40e3b1f2afbe": {
     "views": [
      {
       "cell_index": 19
      }
     ]
    },
    "d7e9e31bb32f4ef088ff8867617ebad0": {
     "views": [
      {
       "cell_index": 19
      }
     ]
    },
    "d9ed8bdcb41645609c75d4edf95d5383": {
     "views": [
      {
       "cell_index": 19
      }
     ]
    },
    "da72a42d1a6f455e94b12991276eec4f": {
     "views": [
      {
       "cell_index": 19
      }
     ]
    },
    "dad46aee26fe4cf084af9db92652017a": {
     "views": [
      {
       "cell_index": 19
      }
     ]
    },
    "db3eeec7f86f47a996aee102a7103621": {
     "views": [
      {
       "cell_index": 19
      }
     ]
    },
    "dc8d8dfdc29e4ea29f1bba077f70e2b3": {
     "views": [
      {
       "cell_index": 19
      }
     ]
    },
    "dc9c89cd5b464a909411e92dfc4a2d76": {
     "views": [
      {
       "cell_index": 19
      }
     ]
    },
    "ddbc14838ccf4ae9ad81200ae68ea70f": {
     "views": [
      {
       "cell_index": 19
      }
     ]
    },
    "de6ea00cc3374601a8bea403fea29d03": {
     "views": [
      {
       "cell_index": 19
      }
     ]
    },
    "debb67b997c5406ab0c8b90518def87e": {
     "views": [
      {
       "cell_index": 19
      }
     ]
    },
    "df024bb9e8694d3cb758f0fe509ee27e": {
     "views": [
      {
       "cell_index": 19
      }
     ]
    },
    "df302c6a970941f59af9c90eaf05d590": {
     "views": [
      {
       "cell_index": 19
      }
     ]
    },
    "e0548c96725c4f14824c8dd204570532": {
     "views": [
      {
       "cell_index": 19
      }
     ]
    },
    "e21e116809b547bab2136519dcdd6ac4": {
     "views": [
      {
       "cell_index": 19
      }
     ]
    },
    "e24f36e2565347dab5dd96d74a5894e9": {
     "views": [
      {
       "cell_index": 19
      }
     ]
    },
    "e41f41c6b6fb436ea8f267c058cdaee9": {
     "views": [
      {
       "cell_index": 19
      }
     ]
    },
    "e499648110d94ee298331a387ccc6176": {
     "views": [
      {
       "cell_index": 19
      }
     ]
    },
    "e4d4246bd5974120816c6a40fe126050": {
     "views": [
      {
       "cell_index": 19
      }
     ]
    },
    "e53fadff76cc45f6a6872c4e411f287b": {
     "views": [
      {
       "cell_index": 19
      }
     ]
    },
    "e5d32f31ea204942a31f71aef806b563": {
     "views": [
      {
       "cell_index": 19
      }
     ]
    },
    "e6faf5bc47f14a97ae759e79e98d1e13": {
     "views": [
      {
       "cell_index": 19
      }
     ]
    },
    "e716818aa4d242f49bc0eba9ac7cccbc": {
     "views": [
      {
       "cell_index": 19
      }
     ]
    },
    "e7b9d33fac60433987cf3d3e4a50e6e4": {
     "views": [
      {
       "cell_index": 19
      }
     ]
    },
    "e7cdb537575342029c0f7f6578d9133d": {
     "views": [
      {
       "cell_index": 19
      }
     ]
    },
    "e7ef5c0097834b5e8f21ee9c92f55522": {
     "views": [
      {
       "cell_index": 19
      }
     ]
    },
    "e8325b145d5c42f68dff8639781cf390": {
     "views": [
      {
       "cell_index": 19
      }
     ]
    },
    "e86dcb7cf7ab4424b2f81504d3e23d8a": {
     "views": [
      {
       "cell_index": 19
      }
     ]
    },
    "e9d13899fa0944e9860f6b02e222cda4": {
     "views": [
      {
       "cell_index": 19
      }
     ]
    },
    "e9f349124c944413bd8ec4e48e6d86f0": {
     "views": [
      {
       "cell_index": 19
      }
     ]
    },
    "ea085b71d9b74f52a85cbdd222534a28": {
     "views": [
      {
       "cell_index": 19
      }
     ]
    },
    "eaf7eae277da46c4bb89261fa94155e8": {
     "views": [
      {
       "cell_index": 19
      }
     ]
    },
    "ebde1accaaec4fbca147b27be5b1dab0": {
     "views": [
      {
       "cell_index": 19
      }
     ]
    },
    "ec76d026dd8748faa2665bb204830a8a": {
     "views": [
      {
       "cell_index": 19
      }
     ]
    },
    "ec975dcd16f64b118fbe9ea1fe020b00": {
     "views": [
      {
       "cell_index": 19
      }
     ]
    },
    "ed3f7cbd43b94fd7bca7e104786fb62a": {
     "views": [
      {
       "cell_index": 19
      }
     ]
    },
    "ed45e5d09b9e4a8cadcac0a93fb81859": {
     "views": [
      {
       "cell_index": 19
      }
     ]
    },
    "edcab1c160af4e4ea432b9d89fa129fb": {
     "views": [
      {
       "cell_index": 19
      }
     ]
    },
    "edeb824b1edd47d3b9b1519c1a6b4f16": {
     "views": [
      {
       "cell_index": 19
      }
     ]
    },
    "edfff299ba0b42b19124d5605297b96f": {
     "views": [
      {
       "cell_index": 19
      }
     ]
    },
    "ee15ef9b2c114bcaa1cb41fefc7ede46": {
     "views": [
      {
       "cell_index": 19
      }
     ]
    },
    "ef17fe1a217142a182168093f1e34611": {
     "views": [
      {
       "cell_index": 19
      }
     ]
    },
    "efdc344ea6c841a195ef608dec62bcd8": {
     "views": [
      {
       "cell_index": 19
      }
     ]
    },
    "f00b98619354449ebc5f8172d454f15e": {
     "views": [
      {
       "cell_index": 19
      }
     ]
    },
    "f0368b18495a45f68f3208f8666e618a": {
     "views": [
      {
       "cell_index": 19
      }
     ]
    },
    "f060d303c2714cbc94ad2b50e233a6c9": {
     "views": [
      {
       "cell_index": 19
      }
     ]
    },
    "f087dfc270cf42368142808b5f8a1141": {
     "views": [
      {
       "cell_index": 19
      }
     ]
    },
    "f10b861afb734ba399a493115ec713d8": {
     "views": [
      {
       "cell_index": 19
      }
     ]
    },
    "f11f9208f1ff49c7856864b35199e206": {
     "views": [
      {
       "cell_index": 19
      }
     ]
    },
    "f1f55ae5fb0f4391877a113b5e553c65": {
     "views": [
      {
       "cell_index": 19
      }
     ]
    },
    "f226d9f85d814b50a39cf757768f7b54": {
     "views": [
      {
       "cell_index": 19
      }
     ]
    },
    "f24d10c7e29a45d0af1303dd374e1f15": {
     "views": [
      {
       "cell_index": 19
      }
     ]
    },
    "f267d57e34644a3d8f34f7472ecd8446": {
     "views": [
      {
       "cell_index": 19
      }
     ]
    },
    "f2d29a437b24489da74a8c3105dd631e": {
     "views": [
      {
       "cell_index": 19
      }
     ]
    },
    "f385f97db4624c0ca801ae7f455157fa": {
     "views": [
      {
       "cell_index": 19
      }
     ]
    },
    "f5afecb3dbbc4b42873461cb2462a344": {
     "views": [
      {
       "cell_index": 19
      }
     ]
    },
    "f635079f705c4f6ba345d454a6512463": {
     "views": [
      {
       "cell_index": 19
      }
     ]
    },
    "f65e1be9b7504c7e80129fdde957cf34": {
     "views": [
      {
       "cell_index": 19
      }
     ]
    },
    "f6a35ecd99e54932ab4d842140812f32": {
     "views": [
      {
       "cell_index": 19
      }
     ]
    },
    "f6bd40ef0f954726b04de0cb0cb0cf2f": {
     "views": [
      {
       "cell_index": 19
      }
     ]
    },
    "f6fee69e15d347ae9dbb7d67f3696d11": {
     "views": [
      {
       "cell_index": 19
      }
     ]
    },
    "f77875db4721452faee4b347dd4e266d": {
     "views": [
      {
       "cell_index": 19
      }
     ]
    },
    "f7a8f0f7b0864a318519e7062d607df4": {
     "views": [
      {
       "cell_index": 19
      }
     ]
    },
    "f7d36dd575d14fb2967fe8dc9c3db58a": {
     "views": [
      {
       "cell_index": 19
      }
     ]
    },
    "f7d52a40d18d421fbd34d6f592eb1bc1": {
     "views": [
      {
       "cell_index": 19
      }
     ]
    },
    "f828d24880a04149808b8b1df2b7aa2e": {
     "views": [
      {
       "cell_index": 19
      }
     ]
    },
    "f86bc02cf8ae4e69ae13ac90be7f8f39": {
     "views": [
      {
       "cell_index": 19
      }
     ]
    },
    "fa8e3c2898044c5cb28ed438822eb836": {
     "views": [
      {
       "cell_index": 19
      }
     ]
    },
    "fd127099e4c943a1a22f126f38b7d384": {
     "views": [
      {
       "cell_index": 19
      }
     ]
    },
    "fed71bf376634e12953e642d4d43509c": {
     "views": [
      {
       "cell_index": 19
      }
     ]
    },
    "feda0d6390e94fbfb9daf8002d3e735b": {
     "views": [
      {
       "cell_index": 19
      }
     ]
    },
    "fee295bf00d74d04a1606abfdb087a3d": {
     "views": [
      {
       "cell_index": 19
      }
     ]
    },
    "ff622d4e09084b49ab5ece3454bfdaaa": {
     "views": [
      {
       "cell_index": 19
      }
     ]
    }
   },
   "version": "1.2.0"
  }
 },
 "nbformat": 4,
 "nbformat_minor": 2
}
